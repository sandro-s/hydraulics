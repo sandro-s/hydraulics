{
 "cells": [
  {
   "attachments": {},
   "cell_type": "markdown",
   "metadata": {},
   "source": [
    "### Problem 1\n",
    "\n",
    "Water flows in a rectangular, concrete, open channel that is $12.0 \\text{ m}$ wide at a depth of $2.5 \\text{ m}$. <br>\n",
    "The channel slope is $0.0028$.<br>\n",
    "Find the water velocity and the flow rate."
   ]
  },
  {
   "cell_type": "code",
   "execution_count": 54,
   "metadata": {},
   "outputs": [
    {
     "name": "stdout",
     "output_type": "stream",
     "text": [
      "Water velocity is 5.944 m/s.\n",
      "Flow rate is 178.3 m3/s.\n"
     ]
    }
   ],
   "source": [
    "import sympy as smp\n",
    "from sympy import symbols, Eq\n",
    "\n",
    "s, b, d = symbols('s b d')\n",
    "v, n, R, A, p_w, Q = symbols('v n R A p_w Q')\n",
    "\n",
    "# For rectangular cross section:\n",
    "A = b*d\n",
    "p_w = b + 2*d\n",
    "\n",
    "# Hydraulic radius:\n",
    "R = A/p_w\n",
    "\n",
    "# Manning's equation:\n",
    "mannings_eq = Eq(v, 1/n * R**(2/3) * s**(1/2))\n",
    "\n",
    "v = smp.solve(mannings_eq, v)[0]\n",
    "Q = A*v\n",
    "\n",
    "_s = 0.0028\n",
    "_b = 12.0\n",
    "_d = 2.5\n",
    "_n = 0.013\n",
    "\n",
    "print(f'Water velocity is {v.subs({s: _s, b: _b, d: _d, n: _n}):.3f} m/s.')\n",
    "\n",
    "print(f'Flow rate is {Q.subs({s: _s, b: _b, d: _d, n: _n}):.1f} m3/s.')"
   ]
  },
  {
   "attachments": {},
   "cell_type": "markdown",
   "metadata": {},
   "source": [
    "### Problem 2\n",
    "\n",
    "Water flows in the symmetrical trapezoidal channel lined with asphalt.<br>\n",
    "The channel bottom drops $1 \\text{ ft}$ vertically for every $100 \\text{ ft}$ of length.<br>\n",
    "What are the water velocity and flow rate?"
   ]
  },
  {
   "cell_type": "code",
   "execution_count": 61,
   "metadata": {},
   "outputs": [
    {
     "name": "stdout",
     "output_type": "stream",
     "text": [
      "Water velocity is 1.747 m/s.\n",
      "Flow rate is 21.5 m^3/s.\n"
     ]
    }
   ],
   "source": [
    "import sympy as smp\n",
    "from sympy import symbols, Eq\n",
    "\n",
    "s, b, d, m = symbols('s b d m')\n",
    "v, n, R, A, p_w, Q = symbols('v n R A p_w Q')\n",
    "\n",
    "# For trapezoidal cross section:\n",
    "A = b*d + m*d**2\n",
    "p_w = b + 2*smp.sqrt(d**2 + (m*d)**2)\n",
    "\n",
    "# Hydraulic radius:\n",
    "R = A/p_w\n",
    "\n",
    "# Manning's equation:\n",
    "mannings_eq = Eq(v, 1/n * R**(2/3) * s**(1/2))\n",
    "\n",
    "v = smp.solve(mannings_eq, v)[0]\n",
    "Q = A*v\n",
    "\n",
    "_s = 0.1/100\n",
    "_b = 16 * 0.3048\n",
    "_d = 4.5 * 0.3048\n",
    "_m = 3\n",
    "_n = 0.017\n",
    "\n",
    "print(f'Water velocity is {v.subs({s: _s, b: _b, d: _d, m: _m, n: _n}):.3f} m/s.')\n",
    "\n",
    "print(f'Flow rate is {Q.subs({s: _s, b: _b, d: _d, m: _m, n: _n}):.1f} m^3/s.')"
   ]
  },
  {
   "attachments": {},
   "cell_type": "markdown",
   "metadata": {},
   "source": [
    "### Problem 3\n",
    "\n",
    "Water is to flow at a rate of $30$ $\\text{m}^{3}\\text{s}$ in the concrete channel shown in figure below.<br>\n",
    "Find the required vertical drop of the channel bottom."
   ]
  },
  {
   "cell_type": "code",
   "execution_count": 74,
   "metadata": {},
   "outputs": [
    {
     "name": "stdout",
     "output_type": "stream",
     "text": [
      "Bottom slope is 0.001325 m/m.\n"
     ]
    }
   ],
   "source": [
    "import sympy as smp\n",
    "from sympy import symbols, Eq\n",
    "\n",
    "b_bottom, b_top, d_left, d_right = symbols('b_bottom b_top d_left d_right')\n",
    "s, v, n, R, A, p_w, Q = symbols('s v n R A p_w Q')\n",
    "\n",
    "# For specified cross section:\n",
    "A = b_top * d_right + (b_bottom + b_top)/2 * (d_left - d_right)\n",
    "p_w = d_left + d_right + b_bottom + smp.sqrt((d_left - d_right)**2 + (b_top - b_bottom)**2)\n",
    "\n",
    "# Hydraulic radius:\n",
    "R = A/p_w\n",
    "\n",
    "# Velocity:\n",
    "v = Q/A\n",
    "\n",
    "# Manning's equation:\n",
    "mannings_eq = Eq(v, 1/n * R**(2/3) * s**(1/2))\n",
    "\n",
    "s = smp.solve(mannings_eq, s)[0]\n",
    "\n",
    "_Q = 40\n",
    "_d_left = 3.6\n",
    "_d_right = 1.6\n",
    "_b_bottom = 2\n",
    "_b_top = 4\n",
    "_n = 0.013\n",
    "\n",
    "print(f'Bottom slope is {s.subs({Q: _Q, d_left: _d_left, d_right: _d_right, b_bottom: _b_bottom, b_top: _b_top, n: _n}):.6f} m/m.')"
   ]
  },
  {
   "attachments": {},
   "cell_type": "markdown",
   "metadata": {},
   "source": [
    "### Problem 4\n",
    "\n",
    "Water flows in the triangular steel channel shown in figure below at a velocity of $2.9 \\text{ ft/s}$.<br>\n",
    "Find the depth of flow if the channel slope is $0.0015$."
   ]
  },
  {
   "cell_type": "code",
   "execution_count": 87,
   "metadata": {},
   "outputs": [
    {
     "name": "stdout",
     "output_type": "stream",
     "text": [
      "Depth of flow is -0.323218358767456/sin(0.152777777777778*pi) m.\n"
     ]
    },
    {
     "data": {
      "text/latex": [
       "$\\displaystyle - \\frac{2.0 \\left(\\frac{n v}{s^{0.5}}\\right)^{\\frac{3}{2}}}{\\sin{\\left(0.5 \\alpha \\right)}}$"
      ],
      "text/plain": [
       "-2.0*(n*v/s**0.5)**(3/2)/sin(0.5*alpha)"
      ]
     },
     "execution_count": 87,
     "metadata": {},
     "output_type": "execute_result"
    }
   ],
   "source": [
    "import sympy as smp\n",
    "from sympy import symbols, Eq\n",
    "\n",
    "d, alpha = symbols('d alpha')\n",
    "s, v, n, R, A, p_w, Q = symbols('s v n R A p_w Q')\n",
    "\n",
    "# For specified cross section:\n",
    "A = d**2 * smp.tan(alpha/2)\n",
    "p_w = 2 * d / smp.cos(alpha/2)\n",
    "\n",
    "# Hydraulic radius:\n",
    "R = A/p_w\n",
    "\n",
    "# Manning's equation:\n",
    "mannings_eq = Eq(v, 1/n * R**(2/3) * s**(1/2))\n",
    "\n",
    "d = smp.solve(mannings_eq, d)[0]\n",
    "\n",
    "_v = 2.9 * 0.3048\n",
    "_alpha = smp.rad(55)\n",
    "_s = 0.0015\n",
    "_n = 0.013\n",
    "\n",
    "print(f'Depth of flow is {d.subs({v: _v, alpha: _alpha, n: _n, s: _s})} m.')\n",
    "\n",
    "d"
   ]
  }
 ],
 "metadata": {
  "kernelspec": {
   "display_name": "Python 3",
   "language": "python",
   "name": "python3"
  },
  "language_info": {
   "codemirror_mode": {
    "name": "ipython",
    "version": 3
   },
   "file_extension": ".py",
   "mimetype": "text/x-python",
   "name": "python",
   "nbconvert_exporter": "python",
   "pygments_lexer": "ipython3",
   "version": "3.11.1"
  },
  "orig_nbformat": 4,
  "vscode": {
   "interpreter": {
    "hash": "e2de187e2ac018b1966125b89a9965710f2e135e980700bc64d2907d990fa000"
   }
  }
 },
 "nbformat": 4,
 "nbformat_minor": 2
}
