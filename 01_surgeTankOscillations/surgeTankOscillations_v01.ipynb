{
 "cells": [
  {
   "cell_type": "code",
   "execution_count": null,
   "metadata": {
    "scrolled": true
   },
   "outputs": [],
   "source": [
    "import numpy as np\n",
    "from scipy.integrate import odeint\n",
    "import matplotlib.pyplot as plt\n",
    "\n",
    "np.set_printoptions(threshold=np.inf)\n",
    "\n",
    "# Variables for calculation:\n",
    "g = 9.81             # gravity acceleration [m/s**2]\n",
    "H_res = 100          # water surface level in reservoir [m a. s. l.]\n",
    "Lt = 2000            # length of headrace tunnel from reservoir to surge tank  [m]\n",
    "Dt = 5               # diameter of headrace tunnel from reservoir to surge tank [m]\n",
    "Ds = 11.284          # diameter of surge tank [m]\n",
    "f_l = 0.0            # Darcy's friction coefficient of headrace tunnel [/]\n",
    "T_stop = 100         # end time for calculation [s]\n",
    "delta_t = 1          # time step for calculation [s]\n",
    "\n",
    "# Calculations:\n",
    "At = np.pi * Dt**2/4 # cross section area of headrace tunnel [m**2]\n",
    "As = np.pi * Ds**2/4 # cross section area of surge tank [m**2]\n",
    "c = (1 + f_l * Lt/Dt) / (2*g) # loss coefficient [s**2/m]\n",
    "\n",
    "# Function is defined as:\n",
    "def f(Qy, t):\n",
    "    Qt = Qy[0]       # volumetric flow of fluid [m**3/s]\n",
    "    yt = Qy[1]       # height difference between water surface level in reservoir and water surface level in surge tank [m]\n",
    "\n",
    "    dQdt = (g * At/Lt) * (yt - c * Qt * np.abs(Qt)/At**2)\n",
    "    dydt = -Qt/As \n",
    "\n",
    "    return [dQdt, dydt]\n",
    "\n",
    "# Time interval:\n",
    "t = np.linspace(0, T_stop, int(T_stop/delta_t + 1))\n",
    "\n",
    "# Initial condition of volumetric flow, Qt, and height difference between water surface level in reservoir and water surface level in surge tank, yt:\n",
    "Q0 = 92\n",
    "y0 = c * Q0**2 / ((Dt**2 * np.pi / 4)**2)\n",
    "\n",
    "Qy0 = [Q0, y0]\n",
    "\n",
    "# Calling the function for time interval, t:\n",
    "Qy = odeint(f, Qy0, t)\n",
    "Q = Qy[:,0]\n",
    "y = Qy[:,1]\n",
    "h = H_res - y\n",
    "\n",
    "# Graph drawing\n",
    "fig = plt.figure(figsize=(4, 3), dpi=100)\n",
    "fig.set_facecolor(\"w\")\n",
    "\n",
    "plt.title('Oscillations in surge tank')\n",
    "\n",
    "plt.plot(t, Q, label='Flow')\n",
    "plt.plot(t, h, label='Water elevation in surge tank')\n",
    "\n",
    "plt.axhline(color='r', lw=0.5)\n",
    "plt.axhline(y  = H_res, color='r', lw=0.5)\n",
    "\n",
    "plt.xlabel('Time interval, t')\n",
    "plt.ylabel('Flow, Qt \\nWater elevation in surge tank, h')\n",
    "\n",
    "legend = plt.legend(shadow = False, loc='upper left', bbox_to_anchor=(-0.02, -0.2))\n",
    "\n",
    "plt.show()"
   ]
  }
 ],
 "metadata": {
  "kernelspec": {
   "display_name": "Python 3",
   "language": "python",
   "name": "python3"
  },
  "language_info": {
   "codemirror_mode": {
    "name": "ipython",
    "version": 3
   },
   "file_extension": ".py",
   "mimetype": "text/x-python",
   "name": "python",
   "nbconvert_exporter": "python",
   "pygments_lexer": "ipython3",
   "version": "3.7.7"
  }
 },
 "nbformat": 4,
 "nbformat_minor": 4
}
