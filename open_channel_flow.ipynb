{
 "cells": [
  {
   "cell_type": "code",
   "execution_count": 44,
   "metadata": {},
   "outputs": [],
   "source": [
    "import numpy as np\n",
    "import math"
   ]
  },
  {
   "cell_type": "code",
   "execution_count": null,
   "metadata": {},
   "outputs": [],
   "source": [
    "# Constants declatarion\n",
    "g = 9.80665\n",
    "ni = 1.13e-6\n",
    "slope_precision = 0.0000000001\n",
    "depth_precision = 0.000001"
   ]
  },
  {
   "cell_type": "code",
   "execution_count": 41,
   "metadata": {},
   "outputs": [],
   "source": [
    "def OCH_FlowArea(x, z, WS, x_lid=[], z_lid=[]):\n",
    "    N = len(x)\n",
    "    if N < 2 or len(x) != len(z):\n",
    "        return f\"Number of profile points is less then 2 or x-array and z-array are not of the same length.\"\n",
    "    if len(x_lid) != 0:\n",
    "        N_lid = len(x_lid)\n",
    "        if N_lid < 2 or len(x_lid) != len(z_lid):\n",
    "            return f\"Number of lid profile points is less then 2 or lid x-array and lid z-array are not of the same length.\"\n",
    "    sum_delta_A = 0\n",
    "    for i in range(N-1):\n",
    "        if z[i] > WS and z[i+1] < WS:\n",
    "            x_interp = (WS - z[i]) * (x[i + 1] - x[i]) / (z[i + 1] - z[i]) + x[i]\n",
    "            delta_A = (x[i + 1] - x_interp) * (WS - z[i + 1]) / 2\n",
    "        elif z[i] < WS and z[i+1] > WS:\n",
    "            x_interp = (WS - z[i]) * (x[i + 1] - x[i]) / (z[i + 1] - z[i]) + x[i]\n",
    "            delta_A = (x_interp - x[i]) * (WS - z[i]) / 2\n",
    "        elif z[i] <= WS and z[i + 1] <= WS:\n",
    "            delta_A = (x[i + 1] - x[i]) * (WS - z[i + 1] + WS - z[i]) / 2\n",
    "        else:\n",
    "            delta_A = 0\n",
    "        sum_delta_A += delta_A\n",
    "    if len(x_lid) != 0:\n",
    "            for i in range(N_lid-1):\n",
    "                if z_lid[i] > WS and z_lid[i+1] < WS:\n",
    "                    x_lid_interp = (WS - z_lid[i]) * (x_lid[i + 1] - x_lid[i]) / (z_lid[i + 1] - z_lid[i]) + x_lid[i]\n",
    "                    delta_A = -(x_lid[i + 1] - x_lid_interp) * (WS - z_lid[i + 1]) / 2\n",
    "                elif z_lid[i] < WS and z_lid[i+1] > WS:\n",
    "                    x_lid_interp = (WS - z_lid[i]) * (x_lid[i + 1] - x_lid[i]) / (z_lid[i + 1] - z_lid[i]) + x_lid[i]\n",
    "                    delta_A = -(x_lid_interp - x_lid[i]) * (WS - z_lid[i]) / 2\n",
    "                elif z_lid[i] <= WS and z_lid[i + 1] <= WS:\n",
    "                    delta_A = -(x_lid[i + 1] - x_lid[i]) * (WS - z_lid[i + 1] + WS - z_lid[i]) / 2\n",
    "                else:\n",
    "                    delta_A = 0\n",
    "                sum_delta_A += delta_A\n",
    "    return sum_delta_A"
   ]
  },
  {
   "cell_type": "code",
   "execution_count": null,
   "metadata": {},
   "outputs": [],
   "source": [
    "def OCH_WettedPerimeter(x, z, WS, x_lid=[], z_lid=[]):\n",
    "    N = len(x)\n",
    "    if N < 2 or len(x) != len(z):\n",
    "        return f\"Number of profile points is less then 2 or x-array and z-array are not of the same length.\"\n",
    "    if len(x_lid) != 0:\n",
    "        N_lid = len(x_lid)\n",
    "        if N_lid < 2 or len(x_lid) != len(z_lid):\n",
    "            return f\"Number of lid profile points is less then 2 or lid x-array and lid z-array are not of the same length.\"\n",
    "    sum_delta_P = 0\n",
    "    for i in range(N-1):\n",
    "        if z[i] > WS and z[i+1] < WS:\n",
    "            x_interp = (WS - z[i]) * (x[i + 1] - x[i]) / (z[i + 1] - z[i]) + x[i]\n",
    "            delta_P = math.sqrt((x[i + 1] - x_interp) ** 2 + (z[i + 1] - WS) ** 2)\n",
    "        elif z[i] < WS and z[i+1] > WS:\n",
    "            x_interp = (WS - z[i]) * (x[i + 1] - x[i]) / (z[i + 1] - z[i]) + x[i]\n",
    "            delta_P = math.sqrt((x_interp - x[i]) ** 2 + (WS - z[i]) ** 2)\n",
    "        elif z[i] <= WS and z[i + 1] <= WS:\n",
    "            delta_P = math.sqrt((x[i + 1] - x[i]) ** 2 + (z[i + 1] - z[i]) ** 2)\n",
    "        else:\n",
    "            delta_P = 0\n",
    "        sum_delta_P += delta_P\n",
    "    if len(x_lid) == 0:\n",
    "        if z[0] < WS:\n",
    "            sum_delta_P += WS - z[0]\n",
    "        if z[N] < WS:\n",
    "            sum_delta_P += WS - z[N]\n",
    "    if len(x_lid) != 0:\n",
    "        for i in range(N_lid-1):\n",
    "            if z_lid[i] > WS and z_lid[i+1] < WS:\n",
    "                x_lid_interp = (WS - z_lid[i]) * (x_lid[i + 1] - x_lid[i]) / (z_lid[i + 1] - z_lid[i]) + x_lid[i]\n",
    "                delta_P = -math.sqrt((x_lid[i + 1] - x_lid_interp) ** 2 + (z_lid[i + 1] - WS) ** 2)\n",
    "            elif z_lid[i] < WS and z_lid[i+1] > WS:\n",
    "                x_lid_interp = (WS - z_lid[i]) * (x_lid[i + 1] - x_lid[i]) / (z_lid[i + 1] - z_lid[i]) + x_lid[i]\n",
    "                delta_P = -math.sqrt((x_lid_interp - x_lid[i]) ** 2 + (WS - z_lid[i]) ** 2)\n",
    "            elif z_lid[i] <= WS and z_lid[i + 1] <= WS:\n",
    "                delta_P = -math.sqrt((x_lid[i + 1] - x_lid[i]) ** 2 + (z_lid[i + 1] - z_lid[i]) ** 2)\n",
    "            else:\n",
    "                delta_P = 0\n",
    "            sum_delta_P += delta_P\n",
    "    return sum_delta_P"
   ]
  },
  {
   "cell_type": "code",
   "execution_count": null,
   "metadata": {},
   "outputs": [],
   "source": [
    "def OCH_HydraulicRadius(x, z, WS, x_lid=[], z_lid=[]):\n",
    "    N = len(x)\n",
    "    if N < 2 or len(x) != len(z):\n",
    "        return f\"Number of profile points is less then 2 or x-array and z-array are not of the same length.\"\n",
    "    if len(x_lid) != 0:\n",
    "        N_lid = len(x_lid)\n",
    "        if N_lid < 2 or len(x_lid) != len(z_lid):\n",
    "            return f\"Number of lid profile points is less then 2 or lid x-array and lid z-array are not of the same length.\"\n",
    "    A = OCH_FlowArea(x, z, WS, x_lid=[], z_lid=[])\n",
    "    P = OCH_WettedPerimeter(x, z, WS, x_lid=[], z_lid=[])\n",
    "    return A/P"
   ]
  },
  {
   "cell_type": "code",
   "execution_count": null,
   "metadata": {},
   "outputs": [],
   "source": [
    "def OCH_TopWidth(x, z, WS, x_lid=[], z_lid=[]):\n",
    "    N = len(x)\n",
    "    if N < 2 or len(x) != len(z):\n",
    "        return f\"Number of profile points is less then 2 or x-array and z-array are not of the same length.\"\n",
    "    if len(x_lid) != 0:\n",
    "        N_lid = len(x_lid)\n",
    "        if N_lid < 2 or len(x_lid) != len(z_lid):\n",
    "            return f\"Number of lid profile points is less then 2 or lid x-array and lid z-array are not of the same length.\"\n",
    "    sum_delta_T = 0\n",
    "    for i in range(N-1):\n",
    "        if z[i] > WS and z[i+1] < WS:\n",
    "            x_interp = (WS - z[i]) * (x[i + 1] - x[i]) / (z[i + 1] - z[i]) + x[i]\n",
    "            delta_T = x[i + 1] - x_interp\n",
    "        elif z[i] < WS and z[i+1] > WS:\n",
    "            x_interp = (WS - z[i]) * (x[i + 1] - x[i]) / (z[i + 1] - z[i]) + x[i]\n",
    "            delta_T = x_interp - x[i]\n",
    "        elif z[i] <= WS and z[i + 1] <= WS:\n",
    "            delta_T = x[i + 1] - x[i]\n",
    "        else:\n",
    "            delta_T = 0\n",
    "        sum_delta_T += delta_T\n",
    "    if len(x_lid) != 0:\n",
    "            for i in range(N_lid-1):\n",
    "                if z_lid[i] > WS and z_lid[i+1] < WS:\n",
    "                    x_lid_interp = (WS - z_lid[i]) * (x_lid[i + 1] - x_lid[i]) / (z_lid[i + 1] - z_lid[i]) + x_lid[i]\n",
    "                    delta_T = -(x_lid[i + 1] - x_lid_interp)\n",
    "                elif z_lid[i] < WS and z_lid[i+1] > WS:\n",
    "                    x_lid_interp = (WS - z_lid[i]) * (x_lid[i + 1] - x_lid[i]) / (z_lid[i + 1] - z_lid[i]) + x_lid[i]\n",
    "                    delta_T = (x_lid_interp - x_lid[i])\n",
    "                elif z_lid[i] <= WS and z_lid[i + 1] <= WS:\n",
    "                    delta_T = -(x_lid[i + 1] - x_lid[i])\n",
    "                else:\n",
    "                    delta_T = 0\n",
    "                sum_delta_T += delta_T\n",
    "    return sum_delta_T"
   ]
  }
 ],
 "metadata": {
  "kernelspec": {
   "display_name": "Python 3.8.10 64-bit",
   "language": "python",
   "name": "python3"
  },
  "language_info": {
   "codemirror_mode": {
    "name": "ipython",
    "version": 3
   },
   "file_extension": ".py",
   "mimetype": "text/x-python",
   "name": "python",
   "nbconvert_exporter": "python",
   "pygments_lexer": "ipython3",
   "version": "3.8.10"
  },
  "orig_nbformat": 4,
  "vscode": {
   "interpreter": {
    "hash": "2093f9e1edc3920636981838ea6b75ab40d7aa7138e79dc3644b818b0765088a"
   }
  }
 },
 "nbformat": 4,
 "nbformat_minor": 2
}
